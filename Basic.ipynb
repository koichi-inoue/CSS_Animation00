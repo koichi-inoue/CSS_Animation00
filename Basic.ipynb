{
  "nbformat": 4,
  "nbformat_minor": 0,
  "metadata": {
    "colab": {
      "name": "Basic.ipynb",
      "version": "0.3.2",
      "provenance": [],
      "collapsed_sections": [],
      "include_colab_link": true
    },
    "kernelspec": {
      "name": "python3",
      "display_name": "Python 3"
    }
  },
  "cells": [
    {
      "cell_type": "markdown",
      "metadata": {
        "id": "view-in-github",
        "colab_type": "text"
      },
      "source": [
        "[View in Colaboratory](https://colab.research.google.com/github/koichi-inoue/CSS_Animation00/blob/master/Basic.ipynb)"
      ]
    },
    {
      "metadata": {
        "id": "BGFz6Dee2Erj",
        "colab_type": "code",
        "colab": {
          "base_uri": "https://localhost:8080/",
          "height": 216
        },
        "outputId": "cef78d0a-09c0-4c11-8624-6afe908a9639"
      },
      "cell_type": "code",
      "source": [
        "#!/usr/bin/env python3\n",
        "# -*- coding: utf-8 -*-\n",
        "\"\"\"\n",
        "Created on Tue Jun 12 21:16:27 2018\n",
        "\n",
        "@author: links\n",
        "\"\"\"\n",
        "\n",
        "import tensorflow as tf\n",
        "import numpy as np\n",
        "\n",
        "# Create 100 phony x, y data points in NumPy, y = x * 0.1 + 0.3\n",
        "x_data = np.random.rand(100).astype(np.float32)\n",
        "y_data = x_data * 0.1 + 0.3\n",
        "\n",
        "# Try to find values for W and b that compute y_data = W * x_data + b\n",
        "# (We know that W should be 0.1 and b 0.3, but TensorFlow will\n",
        "# figure that out for us.)\n",
        "W = tf.Variable(tf.random_uniform([1], -1.0, 1.0))\n",
        "b = tf.Variable(tf.zeros([1]))\n",
        "y = W * x_data + b\n",
        "\n",
        "# Minimize the mean squared errors.\n",
        "loss = tf.reduce_mean(tf.square(y - y_data))\n",
        "optimizer = tf.train.GradientDescentOptimizer(0.5)\n",
        "train = optimizer.minimize(loss)\n",
        "\n",
        "# Before starting, initialize the variables.  We will 'run' this first.\n",
        "init = tf.global_variables_initializer()\n",
        "\n",
        "# Launch the graph.\n",
        "sess = tf.Session()\n",
        "sess.run(init)\n",
        "\n",
        "# Fit the line.\n",
        "for step in range(201):\n",
        "    sess.run(train)\n",
        "    if step % 20 == 0:\n",
        "        print(step, sess.run(W), sess.run(b))\n",
        "\n",
        "# Learns best fit is W: [0.1], b: [0.3]\n",
        "\n"
      ],
      "execution_count": 3,
      "outputs": [
        {
          "output_type": "stream",
          "text": [
            "0 [0.84073454] [-0.12534744]\n",
            "20 [0.27633387] [0.20819344]\n",
            "40 [0.14107521] [0.27861458]\n",
            "60 [0.10956808] [0.2950185]\n",
            "80 [0.10222878] [0.29883963]\n",
            "100 [0.10051917] [0.2997297]\n",
            "120 [0.10012094] [0.29993704]\n",
            "140 [0.1000282] [0.29998532]\n",
            "160 [0.10000659] [0.29999658]\n",
            "180 [0.10000154] [0.2999992]\n",
            "200 [0.10000037] [0.29999983]\n"
          ],
          "name": "stdout"
        }
      ]
    },
    {
      "metadata": {
        "id": "w-JvFMsUv4VV",
        "colab_type": "code",
        "colab": {
          "base_uri": "https://localhost:8080/",
          "height": 35
        },
        "outputId": "dc20bf9b-e663-4187-c3c2-2ff80e60453e"
      },
      "cell_type": "code",
      "source": [
        "%pwd"
      ],
      "execution_count": 1,
      "outputs": [
        {
          "output_type": "execute_result",
          "data": {
            "text/plain": [
              "'/content'"
            ]
          },
          "metadata": {
            "tags": []
          },
          "execution_count": 1
        }
      ]
    }
  ]
}